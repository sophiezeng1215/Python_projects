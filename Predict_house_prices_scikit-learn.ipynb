{
 "cells": [
  {
   "cell_type": "markdown",
   "metadata": {},
   "source": [
    "# Import libraries"
   ]
  },
  {
   "cell_type": "code",
   "execution_count": 67,
   "metadata": {
    "collapsed": true
   },
   "outputs": [],
   "source": [
    "import pandas as pd"
   ]
  },
  {
   "cell_type": "markdown",
   "metadata": {},
   "source": [
    "# Load house sales data"
   ]
  },
  {
   "cell_type": "code",
   "execution_count": 68,
   "metadata": {
    "collapsed": false
   },
   "outputs": [
    {
     "name": "stdout",
     "output_type": "stream",
     "text": [
      "           id             date   price  bedrooms  bathrooms  sqft_living  \\\n",
      "0  7129300520  20141013T000000  221900         3       1.00         1180   \n",
      "1  6414100192  20141209T000000  538000         3       2.25         2570   \n",
      "2  5631500400  20150225T000000  180000         2       1.00          770   \n",
      "3  2487200875  20141209T000000  604000         4       3.00         1960   \n",
      "4  1954400510  20150218T000000  510000         3       2.00         1680   \n",
      "\n",
      "   sqft_lot  floors  waterfront  view     ...      grade  sqft_above  \\\n",
      "0      5650     1.0           0     0     ...          7        1180   \n",
      "1      7242     2.0           0     0     ...          7        2170   \n",
      "2     10000     1.0           0     0     ...          6         770   \n",
      "3      5000     1.0           0     0     ...          7        1050   \n",
      "4      8080     1.0           0     0     ...          8        1680   \n",
      "\n",
      "   sqft_basement  yr_built  yr_renovated  zipcode      lat     long  \\\n",
      "0              0      1955             0    98178  47.5112 -122.257   \n",
      "1            400      1951          1991    98125  47.7210 -122.319   \n",
      "2              0      1933             0    98028  47.7379 -122.233   \n",
      "3            910      1965             0    98136  47.5208 -122.393   \n",
      "4              0      1987             0    98074  47.6168 -122.045   \n",
      "\n",
      "   sqft_living15  sqft_lot15  \n",
      "0           1340        5650  \n",
      "1           1690        7639  \n",
      "2           2720        8062  \n",
      "3           1360        5000  \n",
      "4           1800        7503  \n",
      "\n",
      "[5 rows x 21 columns]\n"
     ]
    }
   ],
   "source": [
    "sales = pd.read_csv('home_data.csv')\n",
    "sales.shape\n",
    "print (sales.head())"
   ]
  },
  {
   "cell_type": "markdown",
   "metadata": {},
   "source": [
    "# Explore key features of the dataset"
   ]
  },
  {
   "cell_type": "code",
   "execution_count": 69,
   "metadata": {
    "collapsed": false
   },
   "outputs": [
    {
     "data": {
      "text/plain": [
       "<matplotlib.text.Text at 0x24b12fc06a0>"
      ]
     },
     "execution_count": 69,
     "metadata": {},
     "output_type": "execute_result"
    },
    {
     "data": {
      "image/png": "[encoded data removed]",
      "text/plain": [
       "<matplotlib.figure.Figure at 0x24b12f37e10>"
      ]
     },
     "metadata": {},
     "output_type": "display_data"
    }
   ],
   "source": [
    "import matplotlib.pyplot as plt\n",
    "%matplotlib inline\n",
    "\n",
    "plt.figure(1)\n",
    "plt.subplot(211)\n",
    "plt.plot(sales['sqft_living'], sales['price'], 'ro')\n",
    "plt.ylabel('prices')\n",
    "plt.xlabel('sqft_living')\n",
    "\n",
    "plt.subplot(212)\n",
    "plt.plot(sales['sqft_lot'], sales['price'], 'ro')\n",
    "plt.ylabel('prices')\n",
    "plt.xlabel('sqft_lot')"
   ]
  },
  {
   "cell_type": "markdown",
   "metadata": {},
   "source": [
    "# Create a simple regression model based on sqft_living as the only feature"
   ]
  },
  {
   "cell_type": "markdown",
   "metadata": {},
   "source": [
    "Feature scaling and split data into training and testing sets"
   ]
  },
  {
   "cell_type": "code",
   "execution_count": 76,
   "metadata": {
    "collapsed": false
   },
   "outputs": [
    {
     "name": "stderr",
     "output_type": "stream",
     "text": [
      "C:\\Users\\sophi\\Anaconda3\\lib\\site-packages\\sklearn\\utils\\validation.py:429: DataConversionWarning: Data with input dtype int64 was converted to float64 by StandardScaler.\n",
      "  warnings.warn(msg, _DataConversionWarning)\n",
      "C:\\Users\\sophi\\Anaconda3\\lib\\site-packages\\sklearn\\preprocessing\\data.py:586: DeprecationWarning: Passing 1d arrays as data is deprecated in 0.17 and will raise ValueError in 0.19. Reshape your data either using X.reshape(-1, 1) if your data has a single feature or X.reshape(1, -1) if it contains a single sample.\n",
      "  warnings.warn(DEPRECATION_MSG_1D, DeprecationWarning)\n",
      "C:\\Users\\sophi\\Anaconda3\\lib\\site-packages\\sklearn\\preprocessing\\data.py:649: DeprecationWarning: Passing 1d arrays as data is deprecated in 0.17 and will raise ValueError in 0.19. Reshape your data either using X.reshape(-1, 1) if your data has a single feature or X.reshape(1, -1) if it contains a single sample.\n",
      "  warnings.warn(DEPRECATION_MSG_1D, DeprecationWarning)\n"
     ]
    }
   ],
   "source": [
    "from sklearn.preprocessing import StandardScaler\n",
    "scaler = StandardScaler()\n",
    "sales['sqft_living_scaled'] = scaler.fit_transform(sales['sqft_living'])\n",
    "\n",
    "from sklearn.model_selection import train_test_split\n",
    "train_data, test_data = train_test_split(sales, train_size = 0.8)"
   ]
  },
  {
   "cell_type": "markdown",
   "metadata": {},
   "source": [
    "Train the linear regression model using the training set"
   ]
  },
  {
   "cell_type": "code",
   "execution_count": 78,
   "metadata": {
    "collapsed": false
   },
   "outputs": [
    {
     "name": "stderr",
     "output_type": "stream",
     "text": [
      "C:\\Users\\sophi\\Anaconda3\\lib\\site-packages\\ipykernel\\__main__.py:3: FutureWarning: reshape is deprecated and will raise in a subsequent release. Please use .values.reshape(...) instead\n",
      "  app.launch_new_instance()\n"
     ]
    },
    {
     "data": {
      "text/plain": [
       "LinearRegression(copy_X=True, fit_intercept=True, n_jobs=1, normalize=False)"
      ]
     },
     "execution_count": 78,
     "metadata": {},
     "output_type": "execute_result"
    }
   ],
   "source": [
    "from sklearn.linear_model import LinearRegression\n",
    "sqft_model = LinearRegression()\n",
    "sqft_model.fit(train_data['sqft_living_scaled'].reshape(-1, 1), train_data['price'])"
   ]
  },
  {
   "cell_type": "markdown",
   "metadata": {},
   "source": [
    "Obtain parameters (intercept = theta0, coefficients = theta1,...)"
   ]
  },
  {
   "cell_type": "code",
   "execution_count": 79,
   "metadata": {
    "collapsed": false
   },
   "outputs": [
    {
     "name": "stdout",
     "output_type": "stream",
     "text": [
      "539498.519359\n",
      "[ 256415.7048722]\n"
     ]
    }
   ],
   "source": [
    "print (sqft_model.intercept_)\n",
    "print (sqft_model.coef_)"
   ]
  },
  {
   "cell_type": "markdown",
   "metadata": {},
   "source": [
    "Evaluate the model using mean_squared_error"
   ]
  },
  {
   "cell_type": "code",
   "execution_count": 80,
   "metadata": {
    "collapsed": false
   },
   "outputs": [
    {
     "name": "stdout",
     "output_type": "stream",
     "text": [
      "67629377146.8 71248969465.8\n"
     ]
    }
   ],
   "source": [
    "from sklearn.metrics import mean_squared_error\n",
    "train_error = mean_squared_error(train_data['price'], sqft_model.predict(train_data['sqft_living_scaled'].values.reshape(-1, 1)))\n",
    "test_error = mean_squared_error(test_data['price'], sqft_model.predict(test_data['sqft_living_scaled'].values.reshape(-1, 1)))\n",
    "print (train_error, test_error)"
   ]
  },
  {
   "cell_type": "markdown",
   "metadata": {},
   "source": [
    "Visulize the fit"
   ]
  },
  {
   "cell_type": "code",
   "execution_count": 81,
   "metadata": {
    "collapsed": false
   },
   "outputs": [
    {
     "data": {
      "text/plain": [
       "<matplotlib.text.Text at 0x24b13066240>"
      ]
     },
     "execution_count": 81,
     "metadata": {},
     "output_type": "execute_result"
    },
    {
     "data": {
      "image/png": "[encoded data removed]",
      "text/plain": [
       "<matplotlib.figure.Figure at 0x24b13572550>"
      ]
     },
     "metadata": {},
     "output_type": "display_data"
    }
   ],
   "source": [
    "plt.plot(train_data['sqft_living'], train_data['price'], 'ro', \n",
    "         train_data['sqft_living'], sqft_model.predict(train_data['sqft_living_scaled'].values.reshape(-1, 1)), 'b-')\n",
    "plt.ylabel('prices')\n",
    "plt.xlabel('sqft_living')"
   ]
  },
  {
   "cell_type": "markdown",
   "metadata": {},
   "source": [
    "# Build a regression model with more features"
   ]
  },
  {
   "cell_type": "code",
   "execution_count": 88,
   "metadata": {
    "collapsed": false
   },
   "outputs": [
    {
     "name": "stdout",
     "output_type": "stream",
     "text": [
      "           id             date   price  bedrooms  bathrooms  sqft_living  \\\n",
      "0  7129300520  20141013T000000  221900 -0.398737  -1.447464    -0.979835   \n",
      "1  6414100192  20141209T000000  538000 -0.398737   0.175607     0.533634   \n",
      "2  5631500400  20150225T000000  180000 -1.473959  -1.447464    -1.426254   \n",
      "3  2487200875  20141209T000000  604000  0.676485   1.149449    -0.130550   \n",
      "4  1954400510  20150218T000000  510000 -0.398737  -0.149007    -0.435422   \n",
      "\n",
      "   sqft_lot    floors  waterfront  view         ...          sqft_above  \\\n",
      "0 -0.228321 -0.915427           0     0         ...                1180   \n",
      "1 -0.189885  0.936506           0     0         ...                2170   \n",
      "2 -0.123298 -0.915427           0     0         ...                 770   \n",
      "3 -0.244014 -0.915427           0     0         ...                1050   \n",
      "4 -0.169653 -0.915427           0     0         ...                1680   \n",
      "\n",
      "   sqft_basement  yr_built  yr_renovated   zipcode      lat     long  \\\n",
      "0              0      1955             0  1.870152  47.5112 -122.257   \n",
      "1            400      1951          1991  0.879568  47.7210 -122.319   \n",
      "2              0      1933             0 -0.933388  47.7379 -122.233   \n",
      "3            910      1965             0  1.085160  47.5208 -122.393   \n",
      "4              0      1987             0 -0.073636  47.6168 -122.045   \n",
      "\n",
      "   sqft_living15  sqft_lot15  sqft_living_scaled  \n",
      "0           1340        5650           -0.979835  \n",
      "1           1690        7639            0.533634  \n",
      "2           2720        8062           -1.426254  \n",
      "3           1360        5000           -0.130550  \n",
      "4           1800        7503           -0.435422  \n",
      "\n",
      "[5 rows x 22 columns]\n"
     ]
    }
   ],
   "source": [
    "sales2 = sales.copy()\n",
    "my_features = ['bedrooms', 'bathrooms', 'sqft_living', 'sqft_lot', 'floors', 'zipcode']\n",
    "sales2[my_features] = scaler.fit_transform(sales2[my_features])\n",
    "print (sales2.head())\n",
    "from sklearn.model_selection import train_test_split\n",
    "train_data, test_data = train_test_split(sales2, train_size = 0.8)"
   ]
  },
  {
   "cell_type": "code",
   "execution_count": 89,
   "metadata": {
    "collapsed": false
   },
   "outputs": [
    {
     "data": {
      "text/plain": [
       "LinearRegression(copy_X=True, fit_intercept=True, n_jobs=1, normalize=False)"
      ]
     },
     "execution_count": 89,
     "metadata": {},
     "output_type": "execute_result"
    }
   ],
   "source": [
    "features_model = LinearRegression()\n",
    "features_model.fit(train_data[my_features], train_data['price'])"
   ]
  },
  {
   "cell_type": "code",
   "execution_count": 90,
   "metadata": {
    "collapsed": false
   },
   "outputs": [
    {
     "name": "stdout",
     "output_type": "stream",
     "text": [
      "540956.961485\n",
      "[ -50938.551342      7885.19569307  290325.69976931  -12221.82222932\n",
      "   -1755.72402073   30174.31556434]\n"
     ]
    }
   ],
   "source": [
    "print (features_model.intercept_)\n",
    "print (features_model.coef_)"
   ]
  },
  {
   "cell_type": "code",
   "execution_count": 91,
   "metadata": {
    "collapsed": false
   },
   "outputs": [
    {
     "name": "stdout",
     "output_type": "stream",
     "text": [
      "64994003627.3 66812884350.0\n"
     ]
    }
   ],
   "source": [
    "train_error = mean_squared_error(train_data['price'], features_model.predict(train_data[my_features]))\n",
    "test_error = mean_squared_error(test_data['price'], features_model.predict(test_data[my_features]))\n",
    "print (train_error, test_error)"
   ]
  },
  {
   "cell_type": "code",
   "execution_count": 92,
   "metadata": {
    "collapsed": false
   },
   "outputs": [
    {
     "name": "stdout",
     "output_type": "stream",
     "text": [
      "[ 1254258.82975659]\n",
      "[ 1264359.20839972]\n",
      "[2200000]\n"
     ]
    },
    {
     "name": "stderr",
     "output_type": "stream",
     "text": [
      "C:\\Users\\sophi\\Anaconda3\\lib\\site-packages\\sklearn\\utils\\validation.py:395: DeprecationWarning: Passing 1d arrays as data is deprecated in 0.17 and will raise ValueError in 0.19. Reshape your data either using X.reshape(-1, 1) if your data has a single feature or X.reshape(1, -1) if it contains a single sample.\n",
      "  DeprecationWarning)\n"
     ]
    }
   ],
   "source": [
    "print (sqft_model.predict(sales[sales['id'] == 1925069082]['sqft_living_scaled']))\n",
    "print (features_model.predict(sales2[sales2['id'] == 1925069082][my_features]))\n",
    "print (sales[sales['id'] == 1925069082]['price'].tolist())"
   ]
  },
  {
   "cell_type": "markdown",
   "metadata": {},
   "source": [
    "# To answer quiz questions"
   ]
  },
  {
   "cell_type": "code",
   "execution_count": 64,
   "metadata": {
    "collapsed": false
   },
   "outputs": [
    {
     "data": {
      "text/plain": [
       "zipcode\n",
       "98039    2160606\n",
       "98004    1355927\n",
       "98040    1194230\n",
       "98112    1095499\n",
       "98102     901258\n",
       "Name: price, dtype: int64"
      ]
     },
     "execution_count": 64,
     "metadata": {},
     "output_type": "execute_result"
    }
   ],
   "source": [
    "sorted_price_by_zipcode = sales.groupby('zipcode')['price'].mean().sort_values(ascending = False)\n",
    "sorted_price_by_zipcode.head()"
   ]
  },
  {
   "cell_type": "code",
   "execution_count": 73,
   "metadata": {
    "collapsed": false
   },
   "outputs": [
    {
     "name": "stdout",
     "output_type": "stream",
     "text": [
      "0.4215518437977143\n"
     ]
    }
   ],
   "source": [
    "selected = sales[sales['sqft_living'] > 2000]\n",
    "selected = selected [selected['sqft_living'] < 4000]\n",
    "print (len(selected.index)/len(sales.index))"
   ]
  },
  {
   "cell_type": "code",
   "execution_count": 77,
   "metadata": {
    "collapsed": false
   },
   "outputs": [
    {
     "name": "stdout",
     "output_type": "stream",
     "text": [
      "266843.175591 211369.673288\n"
     ]
    }
   ],
   "source": [
    "advanced_features = ['bedrooms', 'bathrooms', 'sqft_living', 'sqft_lot', 'floors', 'zipcode',\n",
    "'condition', 'grade', 'waterfront', 'view', 'sqft_above', 'sqft_basement', 'yr_built', 'yr_renovated', 'lat', 'long', 'sqft_living15', \n",
    "'sqft_lot15']\n",
    "adv_features_model = LinearRegression()\n",
    "adv_features_model.fit(train_data[advanced_features], train_data['price'])\n",
    "my_root_error = mean_squared_error(test_data['price'], features_model.predict(test_data[my_features]))**0.5\n",
    "adv_root_error = mean_squared_error(test_data['price'], adv_features_model.predict(test_data[advanced_features]))**0.5\n",
    "print (my_root_error, adv_root_error)\n"
   ]
  }
 ],
 "metadata": {
  "kernelspec": {
   "display_name": "Python 3",
   "language": "python",
   "name": "python3"
  },
  "language_info": {
   "codemirror_mode": {
    "name": "ipython",
    "version": 3
   },
   "file_extension": ".py",
   "mimetype": "text/x-python",
   "name": "python",
   "nbconvert_exporter": "python",
   "pygments_lexer": "ipython3",
   "version": "3.6.0"
  }
 },
 "nbformat": 4,
 "nbformat_minor": 2
}
